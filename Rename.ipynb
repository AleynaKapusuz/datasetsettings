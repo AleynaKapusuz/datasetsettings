{
  "nbformat": 4,
  "nbformat_minor": 0,
  "metadata": {
    "colab": {
      "provenance": [],
      "authorship_tag": "ABX9TyNdsRS2z290cDrx4AeDGMAS",
      "include_colab_link": true
    },
    "kernelspec": {
      "name": "python3",
      "display_name": "Python 3"
    },
    "language_info": {
      "name": "python"
    }
  },
  "cells": [
    {
      "cell_type": "markdown",
      "metadata": {
        "id": "view-in-github",
        "colab_type": "text"
      },
      "source": [
        "<a href=\"https://colab.research.google.com/github/AleynaKapusuz/datasetsettings/blob/main/Rename.ipynb\" target=\"_parent\"><img src=\"https://colab.research.google.com/assets/colab-badge.svg\" alt=\"Open In Colab\"/></a>"
      ]
    },
    {
      "cell_type": "markdown",
      "source": [
        "# RENAME"
      ],
      "metadata": {
        "id": "M8l_EkeHUOwZ"
      }
    },
    {
      "cell_type": "code",
      "execution_count": null,
      "metadata": {
        "id": "3q7H2kvOUMwV"
      },
      "outputs": [],
      "source": [
        "import os\n",
        "import glob\n",
        "\n",
        "# Resimlerin bulunduğu klasörün yolu\n",
        "klasor_yolu = \"dataset/\"\n",
        "\n",
        "# Klasördeki tüm resim/txt dosyalarını bul\n",
        "resimler_txt = glob.glob(os.path.join(klasor_yolu, \"*.jpg\"))\n",
        "\n",
        "# print(resimler_txt)\n",
        "\n",
        "# Yeniden adlandırma işlemi\n",
        "for i, eski_ad in enumerate(resimler_txt, start=1):\n",
        "    yeni_ad = os.path.join(klasor_yolu, f\"{i}.jpg\")\n",
        "    os.rename(eski_ad, yeni_ad)\n",
        "    print(f\"{eski_ad} dosyası {yeni_ad} olarak yeniden adlandırıldı.\")\n"
      ]
    }
  ]
}